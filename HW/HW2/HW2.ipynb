{
 "cells": [
  {
   "cell_type": "markdown",
   "source": [
    "(Optional: if you wish to download this notebook as an .ipynb file, use the download button in the upper right\n",
    "    and OPTION-click (MAC) or ALT-Click (Linux and Windows ) then \"Save Link as..\" or \"Download Linked File As..\" or\n",
    "    something similar on your browser.)"
   ],
   "metadata": {}
  },
  {
   "cell_type": "markdown",
   "source": [
    "Problem 1.  Parameter Counting.  In this question you are asked to count the number of parameters needed to represent a matrix.  Examples we have already seen is that an n x n diagonal requires n parameters, an upper triangular requires n(n+1)/2 parameters, and the identity requires one parameter, the number \"n\" itself.  "
   ],
   "metadata": {}
  },
  {
   "cell_type": "markdown",
   "source": [
    "a.  A unit lower triangular matrix, is lower triangular with ones on the diagonal.  How many parameters are needed to represent an n x n unit lower triangular matrix?"
   ],
   "metadata": {}
  },
  {
   "cell_type": "markdown",
   "source": [
    "Answer:\n",
    "\n",
    "S = 1 + 2 + 3 + ... + n - n (n parameters on the diagonal are identified - 1)\n",
    "\n",
    "Thus,\n",
    "$$S = \\frac{(n-1)n}{2}$$"
   ],
   "metadata": {}
  },
  {
   "cell_type": "markdown",
   "source": [
    "b. A vector that shows up in machine learning is the \"one hot\" vector.  It is defined as a vector of length n, which has the kth entry 1, and all other entries 0. (The kth entry is considered \"hot\".)  How many parameters are needed for the \"one hot\" vector?  It is equivalently defined as the kth column of the n x n identity."
   ],
   "metadata": {}
  },
  {
   "cell_type": "markdown",
   "source": [
    "Answer: It need 2 parameters: the vector's length n, and the entry 1's position k. "
   ],
   "metadata": {}
  },
  {
   "cell_type": "markdown",
   "source": [
    "c.  An n x n matrix whose rows add up to 1, and also the columns add up to 1 is called doubly stochastic.  How many parameters are required?"
   ],
   "metadata": {}
  },
  {
   "cell_type": "markdown",
   "source": [],
   "metadata": {}
  },
  {
   "cell_type": "markdown",
   "source": [
    "d. How many parameters in a 2x2 rotation matrix $Q=\\begin{pmatrix} \\cos \\theta & -\\sin \\theta \\\\ \\sin \\theta &\\cos \\theta \\end{pmatrix}$?"
   ],
   "metadata": {}
  },
  {
   "cell_type": "markdown",
   "source": [
    "There is only one parameter: $\\theta$"
   ],
   "metadata": {}
  },
  {
   "cell_type": "markdown",
   "source": [
    "Problem 2.  Suppose $A = \\begin{pmatrix} a & b \\\\ c & d \\end{pmatrix}$ is factored into a 2x2 rotation $Q=\\begin{pmatrix} \\cos \\theta & -\\sin \\theta \\\\ \\sin \\theta &\\cos \\theta \\end{pmatrix}$ times a 2x2 lower triangular matrix $L=\\begin{pmatrix} x & 0\\\\ y & z \\end{pmatrix}$. Write $x,y,z$ and $\\theta$ in terms of $a,b,c$ and $d$."
   ],
   "metadata": {}
  },
  {
   "cell_type": "markdown",
   "source": [
    "We know: $A = Q.L$ </br>\n",
    "Then, $Q^{-1}.A = L$ </br>\n",
    "$Q^{-1} = \\begin{pmatrix} \\cos\\theta & \\sin\\theta \\\\ -\\sin\\theta & \\cos\\theta \\end{pmatrix}$ </br>\n",
    "Therefore, </br>\n",
    "$\\begin{pmatrix} \\cos\\theta & \\sin\\theta \\\\ -\\sin\\theta & \\cos\\theta \\end{pmatrix}.\\begin{pmatrix} a & b \\\\ c & d \\end{pmatrix} = \\begin{pmatrix} x & 0 \\\\ y & z \\end{pmatrix}$ </br>\n",
    "$x = a\\cos\\theta + c\\sin\\theta$ </br>\n",
    "$y = -a\\sin\\theta + c\\cos\\theta$\n",
    "\n"
   ],
   "metadata": {}
  },
  {
   "cell_type": "markdown",
   "source": [],
   "metadata": {}
  },
  {
   "cell_type": "markdown",
   "source": [
    "Problem 3.  (Inspired by GS 2.1 15-22)"
   ],
   "metadata": {}
  },
  {
   "cell_type": "markdown",
   "source": [
    "a. What 3x3 matrix turns $\\begin{pmatrix} a \\\\ b \\\\ c \\end{pmatrix}$ into $\\begin{pmatrix} b \\\\ c \\\\ a \\end{pmatrix}$?"
   ],
   "metadata": {}
  },
  {
   "cell_type": "code",
   "execution_count": null,
   "source": [],
   "outputs": [],
   "metadata": {}
  },
  {
   "cell_type": "markdown",
   "source": [
    "b. What 3x3 matrix E turns $\\begin{pmatrix} a \\\\ b \\\\ c \\end{pmatrix}$ into $\\begin{pmatrix} a \\\\ b \\\\ c-2a \\end{pmatrix}$?"
   ],
   "metadata": {}
  },
  {
   "cell_type": "code",
   "execution_count": null,
   "source": [],
   "outputs": [],
   "metadata": {}
  },
  {
   "cell_type": "markdown",
   "source": [
    "c. Think about undoing the transformation in 3b above and write down the inverse of $E$ without going through lengthy calculations."
   ],
   "metadata": {}
  },
  {
   "cell_type": "code",
   "execution_count": null,
   "source": [],
   "outputs": [],
   "metadata": {}
  },
  {
   "cell_type": "markdown",
   "source": [
    "d. Write the dot product of $\\begin{pmatrix} 1 \\\\ 4 \\\\ 5 \\end{pmatrix}$ and $\\begin{pmatrix} x \\\\ y \\\\ z \\end{pmatrix}$ as a matrix multiplication $Av$.  The matrix $A$ has one row. Describe geometrically the solutions to $Av=0$.  Thse solutions are perpendicular to which vector?"
   ],
   "metadata": {}
  },
  {
   "cell_type": "code",
   "execution_count": null,
   "source": [],
   "outputs": [],
   "metadata": {}
  },
  {
   "cell_type": "markdown",
   "source": [
    "Problem 4. (GS 2.2 8)"
   ],
   "metadata": {}
  },
  {
   "cell_type": "markdown",
   "source": [
    "For which three numbers $k$ does elimination break down?  Which $k$ no longer breaks down by a row exchange?  For each $k$ is the number of solutions $0$, $1$ or $\\infty$? Breakdown is defined as the algorithm producing a 0 pivot.\n",
    "\n",
    "$\\begin{eqnarray} kx+3y & = & \\  \\ 6 \\\\ 3x+ky & = & -6 \\end{eqnarray}$"
   ],
   "metadata": {}
  },
  {
   "cell_type": "code",
   "execution_count": null,
   "source": [],
   "outputs": [],
   "metadata": {}
  },
  {
   "cell_type": "markdown",
   "source": [
    "Problem 5. (GS 2.3 3) With Julia or by hand <br>\n",
    "\n",
    "Which three matrices $E_{21},E_{31}, E_{32}$ put $A$ into triangular form $U$"
   ],
   "metadata": {}
  },
  {
   "cell_type": "code",
   "execution_count": 6,
   "source": [
    "A = [ 1 1 0; 4 6 1; -2 2 0]"
   ],
   "outputs": [
    {
     "output_type": "execute_result",
     "data": {
      "text/plain": [
       "3×3 Array{Int64,2}:\n",
       "  1  1  0\n",
       "  4  6  1\n",
       " -2  2  0"
      ]
     },
     "metadata": {},
     "execution_count": 6
    }
   ],
   "metadata": {}
  },
  {
   "cell_type": "markdown",
   "source": [
    "and $E_{32}E_{31}E_{21}A=U$."
   ],
   "metadata": {}
  },
  {
   "cell_type": "markdown",
   "source": [],
   "metadata": {}
  },
  {
   "cell_type": "markdown",
   "source": [
    "Problem 6. (GS 2.3 17)  The parabola $y=a+bx+cx^2$ goes through the points $(x,y)=(1,4)$ and $(2,8)$ and $(3,14)$. Set up a matrix equations for the unknowns $(a,b,c)$ and solve by hand or with Julia."
   ],
   "metadata": {}
  },
  {
   "cell_type": "markdown",
   "source": [],
   "metadata": {}
  },
  {
   "cell_type": "markdown",
   "source": [
    "Problem 7 (GS 2.4 15). True or False."
   ],
   "metadata": {}
  },
  {
   "cell_type": "markdown",
   "source": [
    "a. If $A^2$ is defined then $A$ is necessarily square. <br>\n",
    "b. If $AB$ and $BA$ are defined then $A$ and $B$ are square. <br>\n",
    "c. If $AB$ and $BA$ are defined then $AB$ and $BA$ are square. <br>\n",
    "d. If $AB=B$ then $A=I$."
   ],
   "metadata": {}
  },
  {
   "cell_type": "code",
   "execution_count": null,
   "source": [],
   "outputs": [],
   "metadata": {}
  },
  {
   "cell_type": "markdown",
   "source": [
    "Problem 8 (GS 2.4 24) By experiment by hand or with Julia and guessing (not proof) predict $A^n$ as a function of $n$ for matrices A₁,A₂,A₃:"
   ],
   "metadata": {}
  },
  {
   "cell_type": "code",
   "execution_count": 7,
   "source": [
    "A₁ = [ 2 1;0 1]"
   ],
   "outputs": [
    {
     "output_type": "execute_result",
     "data": {
      "text/plain": [
       "2×2 Array{Int64,2}:\n",
       " 2  1\n",
       " 0  1"
      ]
     },
     "metadata": {},
     "execution_count": 7
    }
   ],
   "metadata": {}
  },
  {
   "cell_type": "code",
   "execution_count": 11,
   "source": [
    "#Hint using Julia\n",
    "[A₁^n for n=1:5]"
   ],
   "outputs": [
    {
     "output_type": "execute_result",
     "data": {
      "text/plain": [
       "5-element Array{Array{Int64,2},1}:\n",
       " [2 1; 0 1]  \n",
       " [4 3; 0 1]  \n",
       " [8 7; 0 1]  \n",
       " [16 15; 0 1]\n",
       " [32 31; 0 1]"
      ]
     },
     "metadata": {},
     "execution_count": 11
    }
   ],
   "metadata": {}
  },
  {
   "cell_type": "code",
   "execution_count": 12,
   "source": [
    "A₂ = [ 1 1;1 1]"
   ],
   "outputs": [
    {
     "output_type": "execute_result",
     "data": {
      "text/plain": [
       "2×2 Array{Int64,2}:\n",
       " 1  1\n",
       " 1  1"
      ]
     },
     "metadata": {},
     "execution_count": 12
    }
   ],
   "metadata": {}
  },
  {
   "cell_type": "code",
   "execution_count": 13,
   "source": [
    "[A₂^n for n=1:5]"
   ],
   "outputs": [
    {
     "output_type": "execute_result",
     "data": {
      "text/plain": [
       "5-element Array{Array{Int64,2},1}:\n",
       " [1 1; 1 1]    \n",
       " [2 2; 2 2]    \n",
       " [4 4; 4 4]    \n",
       " [8 8; 8 8]    \n",
       " [16 16; 16 16]"
      ]
     },
     "metadata": {},
     "execution_count": 13
    }
   ],
   "metadata": {}
  },
  {
   "cell_type": "code",
   "execution_count": 28,
   "source": [
    "#A₃ requires a symbolic package\n",
    "import Pkg; Pkg.add(\"SymPy\")\n",
    "using SymPy"
   ],
   "outputs": [
    {
     "output_type": "stream",
     "name": "stdout",
     "text": [
      "\u001b[32m\u001b[1m Resolving\u001b[22m\u001b[39m package versions...\n",
      "\u001b[32m\u001b[1m  Updating\u001b[22m\u001b[39m `~/.julia/environments/v1.3/Project.toml`\n",
      "\u001b[90m [no changes]\u001b[39m\n",
      "\u001b[32m\u001b[1m  Updating\u001b[22m\u001b[39m `~/.julia/environments/v1.3/Manifest.toml`\n",
      "\u001b[90m [no changes]\u001b[39m\n"
     ]
    }
   ],
   "metadata": {}
  },
  {
   "cell_type": "code",
   "execution_count": 25,
   "source": [
    "a,b = Sym(\"a\"),Sym(\"b\")"
   ],
   "outputs": [
    {
     "output_type": "execute_result",
     "data": {
      "text/plain": [
       "(a, b)"
      ]
     },
     "metadata": {},
     "execution_count": 25
    }
   ],
   "metadata": {}
  },
  {
   "cell_type": "code",
   "execution_count": 26,
   "source": [
    "A₃ = [a b ;0 0]"
   ],
   "outputs": [
    {
     "output_type": "execute_result",
     "data": {
      "text/plain": [
       "2×2 Array{Sym,2}:\n",
       " a  b\n",
       " 0  0"
      ],
      "text/latex": [
       "\\[\\left[ \\begin{array}{rr}a&b\\\\0&0\\end{array}\\right]\\]"
      ]
     },
     "metadata": {},
     "execution_count": 26
    }
   ],
   "metadata": {}
  },
  {
   "cell_type": "code",
   "execution_count": 27,
   "source": [
    "[A₃^n for n=1:5]"
   ],
   "outputs": [
    {
     "output_type": "execute_result",
     "data": {
      "text/plain": [
       "5-element Array{Array{Sym,2},1}:\n",
       " [a b; 0 0]      \n",
       " [a^2 a*b; 0 0]  \n",
       " [a^3 a^2*b; 0 0]\n",
       " [a^4 a^3*b; 0 0]\n",
       " [a^5 a^4*b; 0 0]"
      ]
     },
     "metadata": {},
     "execution_count": 27
    }
   ],
   "metadata": {}
  },
  {
   "cell_type": "markdown",
   "source": [
    "Problem 9.  Why can't a matrix with a column of zeros have an inverse?"
   ],
   "metadata": {}
  },
  {
   "cell_type": "markdown",
   "source": [],
   "metadata": {}
  },
  {
   "cell_type": "markdown",
   "source": [
    "Problem 10.  Suppose v and w are perpendicular in $R^n$. What is ‖v+w‖² in terms of ‖v‖² and ‖w‖²?"
   ],
   "metadata": {}
  }
 ],
 "metadata": {
  "kernelspec": {
   "display_name": "Julia 1.6.2",
   "language": "julia",
   "name": "julia-1.6"
  },
  "language_info": {
   "file_extension": ".jl",
   "name": "julia",
   "mimetype": "application/julia",
   "version": "1.6.2"
  }
 },
 "nbformat": 4,
 "nbformat_minor": 2
}