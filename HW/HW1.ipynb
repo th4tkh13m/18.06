{
 "cells": [
  {
   "cell_type": "markdown",
   "source": [
    "# HW 1"
   ],
   "metadata": {}
  },
  {
   "cell_type": "markdown",
   "source": [
    "Submit your homework through gradescope by Wednesday  February 12, 11:59pm. There is no preferred format, but your answers should match the template.  You may wish to try the Julia questions early, just in case there are any hiccups.  (hopefully there won’t be any)\n"
   ],
   "metadata": {}
  },
  {
   "cell_type": "markdown",
   "source": [
    "## **1. Warmup questions** (20 points, -4 for wrong answers until 0 is reached).\n",
    "\n",
    " The following are supposed to be familiar from 18.02, but may not be.  We recommend reading all of Strang chapter 1, but especially 1.2 for dot products.  Also there is 18.02 week 1 [course notes](https://ocw.mit.edu/courses/mathematics/18-02-multivariable-calculus-fall-2007/lecture-notes/lec_week1.pdf) on OCW.\n"
   ],
   "metadata": {}
  },
  {
   "cell_type": "markdown",
   "source": [
    "a) Dot product: if v⋅v =1 we say v is a 1) unit vector 2) zero vector 3) fuzzy vector 4) normal vector\n",
    "\n",
    "    Answer: 1\n",
    "b) Dot product: if v⋅v =0 we say v is a 1) unit vector 2) zero vector 3) fuzzy vector 4) normal vector\n",
    "\n",
    "    Answer: 2\n",
    "c) Dot product: if v⋅w=0 we say v and w are a) perpendicular b) orthogonal c) at right angles d) all of the above.\n",
    "\n",
    "    Answer: d\n",
    "Notation: ||v|| = sqrt(v⋅v).  (pronounced norm of v).  \n",
    "\n",
    "d) True or False: ||v-w|| ≤ ||v|| + ||w|| for all vectors v and w. (Hint:Use the triangle inequality)\n",
    "    \n",
    "    Answer: True\n",
    "e) |v⋅w| = ||v||||w|| / √2   if v and w are at which angles to each other. 1) zero degrees, 2) 45 degrees, 3) 60 degrees, 4) 90 degrees. (Hint: Dot product property and also related to the Schwarz Inequality)\n",
    "\n",
    "    Answer: 2\n",
    "f) Determinant:  A linear transformation given by a 2x2 matrix A doubles areas.  What is the determinant of A?\n",
    "\n",
    "    Answer: 4\n"
   ],
   "metadata": {}
  },
  {
   "cell_type": "markdown",
   "source": [
    "## **2.Warmup questions** (20 points, -4 for wrong answers until 0 is reached). \n",
    "Another 18.02 concept is gradients as in the week 5 18.02 [course notes](https://ocw.mit.edu/courses/mathematics/18-02-multivariable-calculus-fall-2007/lecture-notes/lec_week5.pdf) on OCW.\n"
   ],
   "metadata": {}
  },
  {
   "cell_type": "markdown",
   "source": [
    "a) The equation 2x+3y+4z = 202 - describes a 1) line  2)  plane through 0  3)  plane not through 0 4) sphere\n",
    "\n",
    "    Answer: 3\n",
    "b) A normal to your answer in 2a is __________?\n",
    "\n",
    "    Answer: <2,3,4>\n",
    "c) The equation x²+y²+z²=1 describes a a) line  b)  plane through 0  c)  plane not through 0 d) sphere\n",
    "\n",
    "    Answer: d\n",
    "d) A normal to your answer in c is __________?  \n",
    "\n",
    "    Answer: <1,1,1>\n",
    "e) Calculate the gradient of f(x,y,z) = 2x+3y+4z\n",
    "\n",
    "    Answer: <2,3,4>\n",
    "f) Calculate the gradient of f(x,y,z) = x²+y²+z²\n",
    "\n",
    "    Answer: <2x, 2y, 2z>\n",
    "g) The inequality 2x+3y+4z < 2020 describes a region of 3 dimensional space.  Describe that region:_____\n",
    "\n",
    "    Answer: The half space which is under and divided by the plane 2x+3y+4z =2020\n"
   ],
   "metadata": {}
  },
  {
   "cell_type": "markdown",
   "source": [
    "## **3.Am I a (real)vector space?** (20 pts) \n",
    "(A few criteria to be a vector space is that real linear combinations make sense, and remain inside the space.  In particular there should be a zero in the space.  Please answer yes or no and explain briefly if I am a vector space.\n",
    "\n",
    "(Below you may assume the matrices have real entries.)\n",
    "\n",
    "    a) All 3x3 matrices.\n",
    "    b)All 3x3 matrices whose 9 entries add to 1.\n",
    "    c) All 3x3 matrices whose 9 entries add to 0.\n",
    "    d) The 3x3 “zero” matrix whose entries are all 0.\n",
    "    e) The 3x3 “diagonal” matrices (Wikipedia) whose entries are 0 except for the entries on the main diagonal.  \n",
    "    (This means that A11,A22,and A33 may not be zero but the other entries are.)"
   ],
   "metadata": {}
  },
  {
   "cell_type": "markdown",
   "source": [
    "Answer:\n",
    "\n",
    "    a) Yes\n",
    "    b) No, since the zero matrix is not included\n",
    "    c) No\n",
    "    d) Yes\n",
    "    f) Yes"
   ],
   "metadata": {}
  },
  {
   "cell_type": "markdown",
   "source": [
    "## **4. Am I a (real) vector space** (20 pts)?\n",
    "a) The set of constant functions ( f(x)=c for some c)\n",
    "\n",
    "b) The set of functions whose value at 0 is 0.\n",
    "\n",
    "c) The set of functions whose value at 0 is 17.\n",
    "\n",
    "d) The set of functions whose value at 17 is 0.\n",
    "\n",
    "e) The set of functions whose value at 17 is 17.\n"
   ],
   "metadata": {}
  },
  {
   "cell_type": "markdown",
   "source": [],
   "metadata": {}
  },
  {
   "cell_type": "markdown",
   "source": [
    "## **5. Using Julia as a calculator.**  \n",
    "Include screen shots and written answers. (20 points with -2 for every wrong answer)\n",
    "(If you get ERROR: UndefVarError: you may have a typo or you may need \n"
   ],
   "metadata": {}
  },
  {
   "cell_type": "code",
   "execution_count": 1,
   "source": [
    "using LinearAlgebra"
   ],
   "outputs": [],
   "metadata": {}
  },
  {
   "cell_type": "markdown",
   "source": [
    "a) Compute the dot product of [1,2,3,4,5] with [1,4,9,16,25]:"
   ],
   "metadata": {}
  },
  {
   "cell_type": "code",
   "execution_count": 6,
   "source": [
    "dot = [1, 2, 3, 4, 5]⋅[1, 4, 9, 16, 25]"
   ],
   "outputs": [
    {
     "output_type": "execute_result",
     "data": {
      "text/plain": [
       "225"
      ]
     },
     "metadata": {},
     "execution_count": 6
    }
   ],
   "metadata": {}
  },
  {
   "cell_type": "markdown",
   "source": [
    "b) Compute the norm of the same vectors"
   ],
   "metadata": {}
  },
  {
   "cell_type": "code",
   "execution_count": 4,
   "source": [
    "x = [1,2,3,4,5];\n",
    "println(norm(x))\n",
    "y = [1,4,9,16,25]\n",
    "println(norm(y))"
   ],
   "outputs": [
    {
     "output_type": "stream",
     "name": "stdout",
     "text": [
      "7.416198487095663\n",
      "31.28897569432403\n"
     ]
    }
   ],
   "metadata": {}
  },
  {
   "cell_type": "markdown",
   "source": [
    "c) Calculate the cosine of the angle between these two vectors in 5 dim space.  Use acos to compute the angle in radians. Multiply by 180/π to get degrees.  \n",
    "(You can copy and paste 180/π into julia or type \\pi+<tab>.)"
   ],
   "metadata": {}
  },
  {
   "cell_type": "code",
   "execution_count": 7,
   "source": [
    "angle = acos(dot/(norm(x)*norm(y)));\n",
    "angle * 180 /pi"
   ],
   "outputs": [
    {
     "output_type": "execute_result",
     "data": {
      "text/plain": [
       "14.15482838115746"
      ]
     },
     "metadata": {},
     "execution_count": 7
    }
   ],
   "metadata": {}
  },
  {
   "cell_type": "markdown",
   "source": [
    "d) Solve a random 4x4 system of equations"
   ],
   "metadata": {}
  },
  {
   "cell_type": "code",
   "execution_count": 9,
   "source": [
    "A = rand(4, 4)"
   ],
   "outputs": [
    {
     "output_type": "execute_result",
     "data": {
      "text/plain": [
       "4×4 Matrix{Float64}:\n",
       " 0.733687  0.751883  0.761236  0.910559\n",
       " 0.76464   0.799554  0.205205  0.619904\n",
       " 0.825564  0.590314  0.672846  0.250687\n",
       " 0.49915   0.756031  0.827179  0.272212"
      ]
     },
     "metadata": {},
     "execution_count": 9
    }
   ],
   "metadata": {}
  },
  {
   "cell_type": "code",
   "execution_count": 10,
   "source": [
    "b = rand(4)"
   ],
   "outputs": [
    {
     "output_type": "execute_result",
     "data": {
      "text/plain": [
       "4-element Vector{Float64}:\n",
       " 0.7418552228339268\n",
       " 0.34349644547748515\n",
       " 0.5478865483184581\n",
       " 0.23014522876655508"
      ]
     },
     "metadata": {},
     "execution_count": 10
    }
   ],
   "metadata": {}
  },
  {
   "cell_type": "code",
   "execution_count": 12,
   "source": [
    "x = A\\b"
   ],
   "outputs": [
    {
     "output_type": "execute_result",
     "data": {
      "text/plain": [
       "4-element Vector{Float64}:\n",
       "  0.771714333344414\n",
       " -0.8398490086264113\n",
       "  0.3979358441040252\n",
       "  0.553729620377165"
      ]
     },
     "metadata": {},
     "execution_count": 12
    }
   ],
   "metadata": {}
  },
  {
   "cell_type": "markdown",
   "source": [
    "Check the solution:"
   ],
   "metadata": {}
  },
  {
   "cell_type": "code",
   "execution_count": 14,
   "source": [
    "b - A*x"
   ],
   "outputs": [
    {
     "output_type": "execute_result",
     "data": {
      "text/plain": [
       "4-element Vector{Float64}:\n",
       " -2.220446049250313e-16\n",
       " -1.1102230246251565e-16\n",
       " -1.1102230246251565e-16\n",
       " -1.6653345369377348e-16"
      ]
     },
     "metadata": {},
     "execution_count": 14
    }
   ],
   "metadata": {}
  },
  {
   "cell_type": "markdown",
   "source": [
    "Wait!  You probably got answers around 10-16 or 10-17. Is Julia broken? \n",
    "\n",
    "    No. This is roundoff error, and it’s normal and nothing to be afraid of.\n"
   ],
   "metadata": {}
  },
  {
   "cell_type": "markdown",
   "source": [],
   "metadata": {}
  }
 ],
 "metadata": {
  "orig_nbformat": 4,
  "language_info": {
   "file_extension": ".jl",
   "name": "julia",
   "mimetype": "application/julia",
   "version": "1.6.2"
  },
  "kernelspec": {
   "name": "julia-1.6",
   "display_name": "Julia 1.6.2",
   "language": "julia"
  }
 },
 "nbformat": 4,
 "nbformat_minor": 2
}