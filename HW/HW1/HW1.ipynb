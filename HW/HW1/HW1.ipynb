{
 "cells": [
  {
   "cell_type": "markdown",
   "source": [
    "# HW 1"
   ],
   "metadata": {}
  },
  {
   "cell_type": "markdown",
   "source": [
    "Submit your homework through gradescope by Wednesday  February 12, 11:59pm. There is no preferred format, but your answers should match the template.  You may wish to try the Julia questions early, just in case there are any hiccups.  (hopefully there won’t be any)\n"
   ],
   "metadata": {}
  },
  {
   "cell_type": "markdown",
   "source": [
    "## **1. Warmup questions** (20 points, -4 for wrong answers until 0 is reached).\n",
    "\n",
    " The following are supposed to be familiar from 18.02, but may not be.  We recommend reading all of Strang chapter 1, but especially 1.2 for dot products.  Also there is 18.02 week 1 [course notes](https://ocw.mit.edu/courses/mathematics/18-02-multivariable-calculus-fall-2007/lecture-notes/lec_week1.pdf) on OCW.\n"
   ],
   "metadata": {}
  },
  {
   "cell_type": "markdown",
   "source": [
    "a) Dot product: if v⋅v =1 we say v is a 1) unit vector 2) zero vector 3) fuzzy vector 4) normal vector\n",
    "\n",
    "    Answer: 1\n",
    "b) Dot product: if v⋅v =0 we say v is a 1) unit vector 2) zero vector 3) fuzzy vector 4) normal vector\n",
    "\n",
    "    Answer: 2\n",
    "c) Dot product: if v⋅w=0 we say v and w are a) perpendicular b) orthogonal c) at right angles d) all of the above.\n",
    "\n",
    "    Answer: d\n",
    "Notation: ||v|| = sqrt(v⋅v).  (pronounced norm of v).  \n",
    "\n",
    "d) True or False: ||v-w|| ≤ ||v|| + ||w|| for all vectors v and w. (Hint:Use the triangle inequality)\n",
    "    \n",
    "    Answer: True\n",
    "e) |v⋅w| = ||v||||w|| / √2   if v and w are at which angles to each other. 1) zero degrees, 2) 45 degrees, 3) 60 degrees, 4) 90 degrees. (Hint: Dot product property and also related to the Schwarz Inequality)\n",
    "\n",
    "    Answer: 2\n",
    "f) Determinant:  A linear transformation given by a 2x2 matrix A doubles areas.  What is the determinant of A?\n",
    "\n",
    "    Answer: 4\n"
   ],
   "metadata": {}
  },
  {
   "cell_type": "markdown",
   "source": [
    "## **2.Warmup questions** (20 points, -4 for wrong answers until 0 is reached). \n",
    "Another 18.02 concept is gradients as in the week 5 18.02 [course notes](https://ocw.mit.edu/courses/mathematics/18-02-multivariable-calculus-fall-2007/lecture-notes/lec_week5.pdf) on OCW.\n"
   ],
   "metadata": {}
  },
  {
   "cell_type": "markdown",
   "source": [
    "a) The equation 2x+3y+4z = 202 - describes a 1) line  2)  plane through 0  3)  plane not through 0 4) sphere\n",
    "\n",
    "    Answer: 3\n",
    "b) A normal to your answer in 2a is __________?\n",
    "\n",
    "    Answer: <2,3,4>\n",
    "c) The equation x²+y²+z²=1 describes a a) line  b)  plane through 0  c)  plane not through 0 d) sphere\n",
    "\n",
    "    Answer: d\n",
    "d) A normal to your answer in c is __________?  \n",
    "\n",
    "    Answer: <1,1,1>\n",
    "e) Calculate the gradient of f(x,y,z) = 2x+3y+4z\n",
    "\n",
    "    Answer: <2,3,4>\n",
    "f) Calculate the gradient of f(x,y,z) = x²+y²+z²\n",
    "\n",
    "    Answer: <2x, 2y, 2z>\n",
    "g) The inequality 2x+3y+4z < 2020 describes a region of 3 dimensional space.  Describe that region:_____\n",
    "\n",
    "    Answer: The half space which is under and divided by the plane 2x+3y+4z =2020\n"
   ],
   "metadata": {}
  },
  {
   "cell_type": "markdown",
   "source": [
    "## **3.Am I a (real)vector space?** (20 pts) \n",
    "(A few criteria to be a vector space is that real linear combinations make sense, and remain inside the space.  In particular there should be a zero in the space.  Please answer yes or no and explain briefly if I am a vector space.\n",
    "\n",
    "(Below you may assume the matrices have real entries.)\n",
    "\n",
    "    a) All 3x3 matrices.\n",
    "    b)All 3x3 matrices whose 9 entries add to 1.\n",
    "    c) All 3x3 matrices whose 9 entries add to 0.\n",
    "    d) The 3x3 “zero” matrix whose entries are all 0.\n",
    "    e) The 3x3 “diagonal” matrices (Wikipedia) whose entries are 0 except for the entries on the main diagonal.  \n",
    "    (This means that A11,A22,and A33 may not be zero but the other entries are.)"
   ],
   "metadata": {}
  },
  {
   "cell_type": "markdown",
   "source": [
    "Answer:\n",
    "\n",
    "    a) Yes\n",
    "    b) No, since the zero matrix is not included\n",
    "    c) No\n",
    "    d) Yes\n",
    "    f) Yes"
   ],
   "metadata": {}
  },
  {
   "cell_type": "markdown",
   "source": [
    "## **4. Am I a (real) vector space** (20 pts)?\n",
    "a) The set of constant functions ( f(x)=c for some c)\n",
    "\n",
    "b) The set of functions whose value at 0 is 0.\n",
    "\n",
    "c) The set of functions whose value at 0 is 17.\n",
    "\n",
    "d) The set of functions whose value at 17 is 0.\n",
    "\n",
    "e) The set of functions whose value at 17 is 17.\n"
   ],
   "metadata": {}
  },
  {
   "cell_type": "markdown",
   "source": [
    "Answer:\n",
    "\n",
    "    a) Yes\n",
    "    b) Yes\n",
    "    c) No\n",
    "    d) Yes\n",
    "    e) No"
   ],
   "metadata": {}
  },
  {
   "cell_type": "markdown",
   "source": [
    "## **5. Using Julia as a calculator.**  \n",
    "Include screen shots and written answers. (20 points with -2 for every wrong answer)\n",
    "(If you get ERROR: UndefVarError: you may have a typo or you may need \n"
   ],
   "metadata": {}
  },
  {
   "cell_type": "code",
   "execution_count": 1,
   "source": [
    "using LinearAlgebra"
   ],
   "outputs": [],
   "metadata": {}
  },
  {
   "cell_type": "markdown",
   "source": [
    "a) Compute the dot product of [1,2,3,4,5] with [1,4,9,16,25]:"
   ],
   "metadata": {}
  },
  {
   "cell_type": "code",
   "execution_count": 2,
   "source": [
    "dot = [1, 2, 3, 4, 5]⋅[1, 4, 9, 16, 25]"
   ],
   "outputs": [
    {
     "output_type": "execute_result",
     "data": {
      "text/plain": [
       "225"
      ]
     },
     "metadata": {},
     "execution_count": 2
    }
   ],
   "metadata": {}
  },
  {
   "cell_type": "markdown",
   "source": [
    "b) Compute the norm of the same vectors"
   ],
   "metadata": {}
  },
  {
   "cell_type": "code",
   "execution_count": 3,
   "source": [
    "x = [1,2,3,4,5];\n",
    "println(norm(x))\n",
    "y = [1,4,9,16,25]\n",
    "println(norm(y))"
   ],
   "outputs": [
    {
     "output_type": "stream",
     "name": "stdout",
     "text": [
      "7.416198487095663\n",
      "31.28897569432403\n"
     ]
    }
   ],
   "metadata": {}
  },
  {
   "cell_type": "markdown",
   "source": [
    "c) Calculate the cosine of the angle between these two vectors in 5 dim space.  Use acos to compute the angle in radians. Multiply by 180/π to get degrees.  \n",
    "(You can copy and paste 180/π into julia or type \\pi+<tab>.)"
   ],
   "metadata": {}
  },
  {
   "cell_type": "code",
   "execution_count": 4,
   "source": [
    "angle = acos(dot/(norm(x)*norm(y)));\n",
    "angle * 180 /pi"
   ],
   "outputs": [
    {
     "output_type": "execute_result",
     "data": {
      "text/plain": [
       "14.15482838115746"
      ]
     },
     "metadata": {},
     "execution_count": 4
    }
   ],
   "metadata": {}
  },
  {
   "cell_type": "markdown",
   "source": [
    "d) Solve a random 4x4 system of equations"
   ],
   "metadata": {}
  },
  {
   "cell_type": "code",
   "execution_count": 5,
   "source": [
    "A = rand(4, 4)"
   ],
   "outputs": [
    {
     "output_type": "execute_result",
     "data": {
      "text/plain": [
       "4×4 Matrix{Float64}:\n",
       " 0.375414   0.796365   0.504362  0.882421\n",
       " 0.981577   0.455342   0.653459  0.769945\n",
       " 0.727828   0.0509493  0.35942   0.466523\n",
       " 0.0516769  0.172457   0.669597  0.206941"
      ]
     },
     "metadata": {},
     "execution_count": 5
    }
   ],
   "metadata": {}
  },
  {
   "cell_type": "code",
   "execution_count": 6,
   "source": [
    "b = rand(4)"
   ],
   "outputs": [
    {
     "output_type": "execute_result",
     "data": {
      "text/plain": [
       "4-element Vector{Float64}:\n",
       " 0.19025326220032857\n",
       " 0.751153050475551\n",
       " 0.5325287701044799\n",
       " 0.9541067982147937"
      ]
     },
     "metadata": {},
     "execution_count": 6
    }
   ],
   "metadata": {}
  },
  {
   "cell_type": "code",
   "execution_count": 7,
   "source": [
    "x = A\\b"
   ],
   "outputs": [
    {
     "output_type": "execute_result",
     "data": {
      "text/plain": [
       "4-element Vector{Float64}:\n",
       "  0.1700043276933682\n",
       " -0.5109744152932455\n",
       "  1.6476251936366115\n",
       " -0.337306156921495"
      ]
     },
     "metadata": {},
     "execution_count": 7
    }
   ],
   "metadata": {}
  },
  {
   "cell_type": "markdown",
   "source": [
    "Check the solution:"
   ],
   "metadata": {}
  },
  {
   "cell_type": "code",
   "execution_count": 8,
   "source": [
    "b - A*x"
   ],
   "outputs": [
    {
     "output_type": "execute_result",
     "data": {
      "text/plain": [
       "4-element Vector{Float64}:\n",
       " -1.1102230246251565e-16\n",
       "  0.0\n",
       "  1.1102230246251565e-16\n",
       "  0.0"
      ]
     },
     "metadata": {},
     "execution_count": 8
    }
   ],
   "metadata": {}
  },
  {
   "cell_type": "markdown",
   "source": [
    "Wait!  You probably got answers around $10^{-16}$ or $10^{-17}$. Is Julia broken? \n",
    "\n",
    "    No. This is roundoff error, and it’s normal and nothing to be afraid of.\n"
   ],
   "metadata": {}
  },
  {
   "cell_type": "markdown",
   "source": [
    "e) Look at the roundoff error by multiplying by $2^{52}$\n"
   ],
   "metadata": {}
  },
  {
   "cell_type": "code",
   "execution_count": 9,
   "source": [
    "(b - A*x) * (2^52)"
   ],
   "outputs": [
    {
     "output_type": "execute_result",
     "data": {
      "text/plain": [
       "4-element Vector{Float64}:\n",
       " -0.5\n",
       "  0.0\n",
       "  0.5\n",
       "  0.0"
      ]
     },
     "metadata": {},
     "execution_count": 9
    }
   ],
   "metadata": {}
  },
  {
   "cell_type": "markdown",
   "source": [
    "Do you see simple recognizable numbers?  Computers store real numbers with 52 bits of precision, so a few roundoff errors make $(b-A*x)*(2^{52})$ easy to understand.\n"
   ],
   "metadata": {}
  },
  {
   "cell_type": "markdown",
   "source": [
    "f) Elementwise operations vs matrix operations\n",
    "\n",
    "Type a 3x3 matrix and compute the matrix multiply square and the matrix with squared elements:\n"
   ],
   "metadata": {}
  },
  {
   "cell_type": "code",
   "execution_count": 10,
   "source": [
    "A = [1 2 3; 4 5 6; 7 8 9];\n",
    "A^2"
   ],
   "outputs": [
    {
     "output_type": "execute_result",
     "data": {
      "text/plain": [
       "3×3 Matrix{Int64}:\n",
       "  30   36   42\n",
       "  66   81   96\n",
       " 102  126  150"
      ]
     },
     "metadata": {},
     "execution_count": 10
    }
   ],
   "metadata": {}
  },
  {
   "cell_type": "code",
   "execution_count": 11,
   "source": [
    "A .^ 2"
   ],
   "outputs": [
    {
     "output_type": "execute_result",
     "data": {
      "text/plain": [
       "3×3 Matrix{Int64}:\n",
       "  1   4   9\n",
       " 16  25  36\n",
       " 49  64  81"
      ]
     },
     "metadata": {},
     "execution_count": 11
    }
   ],
   "metadata": {}
  },
  {
   "cell_type": "markdown",
   "source": [
    "g) Find the linear combination of the columns of A that gives b where"
   ],
   "metadata": {}
  },
  {
   "cell_type": "code",
   "execution_count": 12,
   "source": [
    "A = [0.608074  0.784732  0.824865\n",
    "     0.840291  0.851875  0.612153\n",
    "     0.382594  0.963247  0.628243];\n",
    "\n",
    "b = [0.5797924838583264\n",
    "     0.5116944696175723\n",
    "     0.5307580657445938];"
   ],
   "outputs": [],
   "metadata": {}
  },
  {
   "cell_type": "code",
   "execution_count": 14,
   "source": [
    "println(\"The linear combination is the solution of Ax = b\");\n",
    "println(A\\b)"
   ],
   "outputs": [
    {
     "output_type": "stream",
     "name": "stdout",
     "text": [
      "The linear combination is the solution of Ax = b\n",
      "[0.0349648997349724, 0.251622660194788, 0.43773815598541144]\n"
     ]
    }
   ],
   "metadata": {}
  }
 ],
 "metadata": {
  "orig_nbformat": 4,
  "language_info": {
   "file_extension": ".jl",
   "name": "julia",
   "mimetype": "application/julia",
   "version": "1.6.2"
  },
  "kernelspec": {
   "name": "julia-1.6",
   "display_name": "Julia 1.6.2",
   "language": "julia"
  }
 },
 "nbformat": 4,
 "nbformat_minor": 2
}